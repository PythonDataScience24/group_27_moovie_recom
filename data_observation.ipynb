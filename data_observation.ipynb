{
 "cells": [
  {
   "cell_type": "code",
   "execution_count": null,
   "id": "initial_id",
   "metadata": {
    "ExecuteTime": {
     "end_time": "2024-05-09T13:14:42.930977Z",
     "start_time": "2024-05-09T13:14:42.928049Z"
    }
   },
   "outputs": [],
   "source": [
    "import pandas as pd"
   ]
  },
  {
   "cell_type": "code",
   "execution_count": null,
   "id": "2d6170d5e344a3b9",
   "metadata": {
    "ExecuteTime": {
     "end_time": "2024-05-09T14:08:25.164330Z",
     "start_time": "2024-05-09T14:08:25.161277Z"
    }
   },
   "outputs": [],
   "source": [
    "# Previously all the dataset was filtered from all titleType except \"movie\""
   ]
  },
  {
   "cell_type": "code",
   "execution_count": null,
   "id": "6afdb63d1570bb19",
   "metadata": {
    "ExecuteTime": {
     "end_time": "2024-05-09T13:27:24.032007Z",
     "start_time": "2024-05-09T13:27:24.027300Z"
    }
   },
   "outputs": [],
   "source": [
    "name_basics_path = \"/media/asevlad/0E4308EC0E4308EC/Data Science Project/name.basics.csv\"\n",
    "title_basics_path = \"/media/asevlad/0E4308EC0E4308EC/Data Science Project/title.basics.csv\"\n",
    "title_crew_path = \"/media/asevlad/0E4308EC0E4308EC/Data Science Project/title.crew.csv\"\n",
    "title_principals_path = \"/media/asevlad/0E4308EC0E4308EC/Data Science Project/title.principals.csv\"\n",
    "title_ratings_path = \"/media/asevlad/0E4308EC0E4308EC/Data Science Project/title.ratings.csv\"\n",
    "\n",
    "paths = [name_basics_path, title_basics_path, title_crew_path, title_principals_path, title_ratings_path]"
   ]
  },
  {
   "cell_type": "code",
   "execution_count": null,
   "id": "a0e8072af83c907c",
   "metadata": {
    "ExecuteTime": {
     "end_time": "2024-05-09T13:27:28.959084Z",
     "start_time": "2024-05-09T13:27:25.668790Z"
    }
   },
   "outputs": [],
   "source": [
    "df_name_basics = pd.read_csv(name_basics_path)\n",
    "df_name_basics\n",
    "# Here we have dataset about people (actors, writers, directors, literally everybody) and their info.\n",
    "# nconst - is an person id\n",
    "# known for titles - movie ids for which they are known"
   ]
  },
  {
   "cell_type": "code",
   "execution_count": null,
   "id": "ac8998d9c2c249ca",
   "metadata": {
    "ExecuteTime": {
     "end_time": "2024-05-09T13:27:30.033227Z",
     "start_time": "2024-05-09T13:27:28.960086Z"
    }
   },
   "outputs": [],
   "source": [
    "df_title_basics = pd.read_csv(title_basics_path)\n",
    "df_title_basics\n",
    "# Dataset about movies\n",
    "# tconst - movie id\n",
    "# titleType - type of the movie. I have cleaned from all other types (as serieses, shorts and others). So we have only type \"movie\" here"
   ]
  },
  {
   "cell_type": "code",
   "execution_count": null,
   "id": "6e792de494dd16f6",
   "metadata": {
    "ExecuteTime": {
     "end_time": "2024-05-09T13:27:30.657143Z",
     "start_time": "2024-05-09T13:27:30.034480Z"
    }
   },
   "outputs": [],
   "source": [
    "df_title_crew = pd.read_csv(title_crew_path)\n",
    "df_title_crew\n",
    "# The table of matching movie id to its director id (person id) and writer id (person id)"
   ]
  },
  {
   "cell_type": "code",
   "execution_count": null,
   "id": "c4f27b47faff1778",
   "metadata": {
    "ExecuteTime": {
     "end_time": "2024-05-09T13:27:36.084406Z",
     "start_time": "2024-05-09T13:27:30.658136Z"
    }
   },
   "outputs": [],
   "source": [
    "df_title_principals = pd.read_csv(title_principals_path)\n",
    "df_title_principals\n",
    "# dataset about people who worked there: actors, directors so on..\n",
    "# ordering - is the kind of importance of person in movie."
   ]
  },
  {
   "cell_type": "code",
   "execution_count": null,
   "id": "96d5aa143f236a3a",
   "metadata": {
    "ExecuteTime": {
     "end_time": "2024-05-09T13:27:36.232658Z",
     "start_time": "2024-05-09T13:27:36.085348Z"
    }
   },
   "outputs": [],
   "source": [
    "df_title_ratings = pd.read_csv(title_ratings_path)\n",
    "df_title_ratings"
   ]
  },
  {
   "cell_type": "code",
   "execution_count": null,
   "id": "40eeb269b37519d6",
   "metadata": {
    "ExecuteTime": {
     "end_time": "2024-05-09T13:27:36.235383Z",
     "start_time": "2024-05-09T13:27:36.233479Z"
    }
   },
   "outputs": [],
   "source": []
  },
  {
   "cell_type": "code",
   "execution_count": null,
   "id": "839b5e2fe7535c2d",
   "metadata": {
    "ExecuteTime": {
     "end_time": "2024-05-09T13:27:17.691415Z",
     "start_time": "2024-05-09T13:26:40.021895Z"
    }
   },
   "outputs": [],
   "source": [
    "# # replace /N with None\n",
    "# for path in paths:\n",
    "#     df = pd.read_csv(path)\n",
    "#     df.replace(\"\\\\N\", None).to_csv(path, index=False)"
   ]
  },
  {
   "cell_type": "code",
   "execution_count": null,
   "id": "9a7f3fdade3c35f8",
   "metadata": {},
   "outputs": [],
   "source": []
  },
  {
   "cell_type": "code",
   "execution_count": null,
   "id": "ae773eab1900975b",
   "metadata": {
    "ExecuteTime": {
     "end_time": "2024-05-09T13:30:00.446896Z",
     "start_time": "2024-05-09T13:30:00.440454Z"
    }
   },
   "outputs": [],
   "source": [
    "# OHE fpr sparce matrix\n",
    "from sklearn.feature_extraction.text import CountVectorizer\n",
    "import numpy as np\n",
    "from scipy.sparse import csr_matrix\n",
    "from typing import Tuple, List\n",
    "\n",
    "def get_sparce_OHE(df_series) -> Tuple[csr_matrix, List[str]]:\n",
    "    \"\"\"\n",
    "    :param df_series: pd.Series with categorical values \n",
    "    :return: Tuple(sparse_matrix, list of feature names) \n",
    "    \n",
    "    ATTENTION! Count np.nan as a feature\n",
    "    \"\"\"\n",
    "    vectorizer = CountVectorizer(tokenizer=lambda x: x.split(','), binary=True, dtype=np.int8)\n",
    "    sparse_matrix = vectorizer.fit_transform(df_series.values.astype('U'))\n",
    "    \n",
    "    return sparse_matrix, vectorizer.get_feature_names_out()\n",
    "\n",
    "# get_sparce_OHE(df_title_basics[\"genres\"])"
   ]
  },
  {
   "cell_type": "code",
   "execution_count": null,
   "id": "f930a3b1f91e277b",
   "metadata": {
    "ExecuteTime": {
     "end_time": "2024-05-09T13:30:03.350428Z",
     "start_time": "2024-05-09T13:30:02.140963Z"
    }
   },
   "outputs": [],
   "source": [
    "get_sparce_OHE(df_title_basics[\"genres\"])"
   ]
  },
  {
   "cell_type": "code",
   "execution_count": null,
   "id": "e4976a7dea567558",
   "metadata": {},
   "outputs": [],
   "source": []
  },
  {
   "cell_type": "code",
   "execution_count": null,
   "id": "302bdfbbf9c419b7",
   "metadata": {},
   "outputs": [],
   "source": []
  },
  {
   "cell_type": "code",
   "execution_count": null,
   "id": "943069a4d33aad61",
   "metadata": {
    "ExecuteTime": {
     "end_time": "2024-05-09T13:41:40.110659Z",
     "start_time": "2024-05-09T13:41:40.107853Z"
    }
   },
   "outputs": [],
   "source": [
    "# Tenet\n",
    "tf_to_observe = \"tt6723592\""
   ]
  },
  {
   "cell_type": "code",
   "execution_count": null,
   "id": "57cc82c2ca0a69ad",
   "metadata": {
    "ExecuteTime": {
     "end_time": "2024-05-09T13:41:41.897393Z",
     "start_time": "2024-05-09T13:41:41.865360Z"
    }
   },
   "outputs": [],
   "source": [
    "# get director and writer Id\n",
    "df_title_crew[df_title_crew[\"tconst\"] == tf_to_observe]"
   ]
  },
  {
   "cell_type": "code",
   "execution_count": null,
   "id": "4ac38ee805d25bc6",
   "metadata": {
    "ExecuteTime": {
     "end_time": "2024-05-09T13:42:47.257037Z",
     "start_time": "2024-05-09T13:42:47.179591Z"
    }
   },
   "outputs": [],
   "source": [
    "# get info about director\n",
    "df_name_basics[df_name_basics[\"nconst\"].isin(df_title_crew[df_title_crew[\"tconst\"] == tf_to_observe][\"directors\"])]"
   ]
  },
  {
   "cell_type": "code",
   "execution_count": null,
   "id": "352b2dcf2cd13262",
   "metadata": {
    "ExecuteTime": {
     "end_time": "2024-05-09T13:44:45.469780Z",
     "start_time": "2024-05-09T13:44:45.427587Z"
    }
   },
   "outputs": [],
   "source": [
    "# get Nolans Ids of films know for \n",
    "nolan_films = df_name_basics[df_name_basics[\"nconst\"].isin([\"nm0634240\"])][\"knownForTitles\"].iloc[0].split(\",\")\n",
    "nolan_films"
   ]
  },
  {
   "cell_type": "code",
   "execution_count": null,
   "id": "8e3bc2f6d5469e95",
   "metadata": {
    "ExecuteTime": {
     "end_time": "2024-05-09T13:44:51.325126Z",
     "start_time": "2024-05-09T13:44:51.293762Z"
    }
   },
   "outputs": [],
   "source": [
    "df_title_basics[df_title_basics[\"tconst\"].isin(nolan_films)]"
   ]
  },
  {
   "cell_type": "code",
   "execution_count": null,
   "id": "4142d5e2db1eb0c9",
   "metadata": {
    "ExecuteTime": {
     "end_time": "2024-05-09T13:45:06.061049Z",
     "start_time": "2024-05-09T13:45:05.737514Z"
    }
   },
   "outputs": [],
   "source": [
    "df_title_principals[df_title_principals[\"tconst\"] == tf_to_observe]"
   ]
  },
  {
   "cell_type": "code",
   "execution_count": null,
   "id": "6e3b1549d26e1de7",
   "metadata": {
    "ExecuteTime": {
     "end_time": "2024-05-09T13:47:24.211917Z",
     "start_time": "2024-05-09T13:47:22.562204Z"
    }
   },
   "outputs": [],
   "source": [
    "pd.merge(\n",
    "    df_title_principals[df_title_principals[\"tconst\"] == tf_to_observe][[\"nconst\", \"ordering\"]],\n",
    "    df_name_basics,\n",
    "    how=\"inner\",\n",
    "    on=\"nconst\"\n",
    ").sort_values(\"ordering\")"
   ]
  },
  {
   "cell_type": "code",
   "execution_count": null,
   "id": "b5972d0205663404",
   "metadata": {
    "ExecuteTime": {
     "end_time": "2024-05-09T13:47:42.766411Z",
     "start_time": "2024-05-09T13:47:42.737331Z"
    }
   },
   "outputs": [],
   "source": [
    "df_title_ratings[df_title_ratings[\"tconst\"] == tf_to_observe]"
   ]
  },
  {
   "cell_type": "code",
   "execution_count": null,
   "id": "6d790b335b34b2cd",
   "metadata": {},
   "outputs": [],
   "source": []
  }
 ],
 "metadata": {
  "kernelspec": {
   "display_name": "Python 3",
   "language": "python",
   "name": "python3"
  },
  "language_info": {
   "codemirror_mode": {
    "name": "ipython",
    "version": 2
   },
   "file_extension": ".py",
   "mimetype": "text/x-python",
   "name": "python",
   "nbconvert_exporter": "python",
   "pygments_lexer": "ipython2",
   "version": "3.12.2"
  }
 },
 "nbformat": 4,
 "nbformat_minor": 5
}
