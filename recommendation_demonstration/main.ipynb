{
 "cells": [
  {
   "metadata": {},
   "cell_type": "markdown",
   "source": "### The same code fromrecommendation_system.py",
   "id": "629fbbc78b14f2f2"
  },
  {
   "metadata": {
    "ExecuteTime": {
     "end_time": "2024-05-16T11:38:17.636349Z",
     "start_time": "2024-05-16T11:38:17.632489Z"
    }
   },
   "cell_type": "code",
   "source": [
    "import pickle\n",
    "import pandas as pd\n",
    "from scipy import sparse\n",
    "from sklearn.metrics.pairwise import cosine_similarity"
   ],
   "id": "872502b56b5c17bd",
   "outputs": [],
   "execution_count": 35
  },
  {
   "cell_type": "code",
   "id": "initial_id",
   "metadata": {
    "collapsed": true,
    "ExecuteTime": {
     "end_time": "2024-05-16T11:38:18.092234Z",
     "start_time": "2024-05-16T11:38:18.049360Z"
    }
   },
   "source": [
    "# CountVectorizer\n",
    "with open('finalized_model.pkl', 'rb') as f:\n",
    "    vectorizer = pickle.load(f)\n",
    "\n",
    "# Already vectorized all the movies in dataset of recommendations\n",
    "vectorized_dataset = sparse.load_npz('vectorized_dataset.npz')\n",
    "\n",
    "# Dataset with all data about movie for recommendations\n",
    "df_full = pd.read_csv(\"finalized_dataset.csv\")"
   ],
   "outputs": [],
   "execution_count": 36
  },
  {
   "metadata": {
    "ExecuteTime": {
     "end_time": "2024-05-16T11:38:18.796476Z",
     "start_time": "2024-05-16T11:38:18.791398Z"
    }
   },
   "cell_type": "code",
   "source": [
    "def recommend_movie(liked_movies):\n",
    "    # get prepared dataset of liked movies\n",
    "    df_liked_movies = df_full[df_full['tconst'].isin(liked_movies[\"imdb_id\"])]\n",
    "    user_movie_idx = df_liked_movies.index\n",
    "\n",
    "    # retrieve soup from actors/directors/writes ids + genres\n",
    "    movies_soup = df_liked_movies['soup']\n",
    "    # transform soup to sparse matrix of vectorized values\n",
    "    count_user_matrix = vectorizer.transform(movies_soup)\n",
    "    # sum up vectors and normalize it\n",
    "    count_user_vec = count_user_matrix.sum(axis=0) / count_user_matrix.sum(axis=0).max()\n",
    "\n",
    "    # calculate similarity\n",
    "    similarity = cosine_similarity(sparse.csr_matrix(count_user_vec), vectorized_dataset)[0]\n",
    "    # add info about average rating from all users, to let top movies be higher\n",
    "    scores = similarity * df_full['weightedAverageScales']\n",
    "\n",
    "    # sort similarities\n",
    "    similar_scores = list(enumerate(scores))\n",
    "    similar_scores = sorted(similar_scores, key=lambda x: x[1], reverse=True)\n",
    "\n",
    "    # retrieve top 10 idx movies to recommend\n",
    "    recommend_movie_indices = [idx for idx, score in similar_scores if idx not in user_movie_idx][:10]\n",
    "    return df_full.loc[recommend_movie_indices]"
   ],
   "id": "4b058b1b502b2567",
   "outputs": [],
   "execution_count": 37
  },
  {
   "metadata": {
    "ExecuteTime": {
     "end_time": "2024-05-16T11:38:19.248356Z",
     "start_time": "2024-05-16T11:38:19.231718Z"
    }
   },
   "cell_type": "code",
   "source": [
    "# Reset index of our main DataFrame and construct reverse mapping as before\n",
    "indices = pd.Series(df_full.index, index=df_full['originalTitle']).to_dict()\n",
    "tconsts = df_full[['tconst', \"originalTitle\"]].set_index(\"originalTitle\").to_dict()[\"tconst\"]"
   ],
   "id": "cbc8389aec84584b",
   "outputs": [],
   "execution_count": 38
  },
  {
   "metadata": {
    "ExecuteTime": {
     "end_time": "2024-05-16T11:38:55.319993Z",
     "start_time": "2024-05-16T11:38:55.311982Z"
    }
   },
   "cell_type": "code",
   "source": [
    "values = [\n",
    "    # (tconsts[\"Avatar\"]),\n",
    "    \n",
    "    # (tconsts[\"La La Land\"]),\n",
    "    # (tconsts[\"The Help\"]),\n",
    "    # (tconsts[\"Easy A\"]),\n",
    "    # \n",
    "    (tconsts[\"Inception\"]),\n",
    "    (tconsts[\"Tenet\"]),\n",
    "    (tconsts[\"Interstellar\"]),\n",
    "]\n",
    "liked_movies = pd.DataFrame(values, columns=[\"imdb_id\"])\n",
    "liked_movies"
   ],
   "id": "fff703501513334",
   "outputs": [
    {
     "data": {
      "text/plain": [
       "     imdb_id\n",
       "0  tt1375666\n",
       "1  tt6723592\n",
       "2  tt0816692"
      ],
      "text/html": [
       "<div>\n",
       "<style scoped>\n",
       "    .dataframe tbody tr th:only-of-type {\n",
       "        vertical-align: middle;\n",
       "    }\n",
       "\n",
       "    .dataframe tbody tr th {\n",
       "        vertical-align: top;\n",
       "    }\n",
       "\n",
       "    .dataframe thead th {\n",
       "        text-align: right;\n",
       "    }\n",
       "</style>\n",
       "<table border=\"1\" class=\"dataframe\">\n",
       "  <thead>\n",
       "    <tr style=\"text-align: right;\">\n",
       "      <th></th>\n",
       "      <th>imdb_id</th>\n",
       "    </tr>\n",
       "  </thead>\n",
       "  <tbody>\n",
       "    <tr>\n",
       "      <th>0</th>\n",
       "      <td>tt1375666</td>\n",
       "    </tr>\n",
       "    <tr>\n",
       "      <th>1</th>\n",
       "      <td>tt6723592</td>\n",
       "    </tr>\n",
       "    <tr>\n",
       "      <th>2</th>\n",
       "      <td>tt0816692</td>\n",
       "    </tr>\n",
       "  </tbody>\n",
       "</table>\n",
       "</div>"
      ]
     },
     "execution_count": 43,
     "metadata": {},
     "output_type": "execute_result"
    }
   ],
   "execution_count": 43
  },
  {
   "metadata": {
    "ExecuteTime": {
     "end_time": "2024-05-16T11:38:58.819463Z",
     "start_time": "2024-05-16T11:38:58.766529Z"
    }
   },
   "cell_type": "code",
   "source": "recommend_movie(liked_movies)",
   "id": "1a2d40311eded58a",
   "outputs": [
    {
     "data": {
      "text/plain": [
       "          tconst               originalTitle  weightedAverageScales  \\\n",
       "10700  tt1392190          Mad Max: Fury Road               0.870526   \n",
       "14437  tt4154756      Avengers: Infinity War               0.902761   \n",
       "3845   tt0103064  Terminator 2: Judgment Day               0.924163   \n",
       "8233   tt0482571                The Prestige               0.913645   \n",
       "10566  tt1345836       The Dark Knight Rises               0.903098   \n",
       "2916   tt0090605                      Aliens               0.902194   \n",
       "6679   tt0316654                Spider-Man 2               0.805923   \n",
       "12178  tt1877832  X-Men: Days of Future Past               0.848720   \n",
       "5442   tt0145487                  Spider-Man               0.795417   \n",
       "12861  tt2250912      Spider-Man: Homecoming               0.795253   \n",
       "\n",
       "                                                    soup  \n",
       "10700  action adventure sci-fi nm0004306 nm0362766 nm...  \n",
       "14437  action adventure sci-fi nm0751577 nm0751648 nm...  \n",
       "3845   action adventure sci-fi nm0000116 nm0000216 nm...  \n",
       "8233   drama mystery sci-fi nm0634240 nm0000288 nm041...  \n",
       "10566  action drama thriller nm0634240 nm0000288 nm03...  \n",
       "2916   action adventure sci-fi nm0000116 nm0000244 nm...  \n",
       "6679   action adventure sci-fi nm0000600 nm0001497 nm...  \n",
       "12178  action adventure sci-fi nm0001741 nm0001772 nm...  \n",
       "5442   action adventure sci-fi nm0000600 nm0001497 nm...  \n",
       "12861  action adventure sci-fi nm1218281 nm4043618 nm...  "
      ],
      "text/html": [
       "<div>\n",
       "<style scoped>\n",
       "    .dataframe tbody tr th:only-of-type {\n",
       "        vertical-align: middle;\n",
       "    }\n",
       "\n",
       "    .dataframe tbody tr th {\n",
       "        vertical-align: top;\n",
       "    }\n",
       "\n",
       "    .dataframe thead th {\n",
       "        text-align: right;\n",
       "    }\n",
       "</style>\n",
       "<table border=\"1\" class=\"dataframe\">\n",
       "  <thead>\n",
       "    <tr style=\"text-align: right;\">\n",
       "      <th></th>\n",
       "      <th>tconst</th>\n",
       "      <th>originalTitle</th>\n",
       "      <th>weightedAverageScales</th>\n",
       "      <th>soup</th>\n",
       "    </tr>\n",
       "  </thead>\n",
       "  <tbody>\n",
       "    <tr>\n",
       "      <th>10700</th>\n",
       "      <td>tt1392190</td>\n",
       "      <td>Mad Max: Fury Road</td>\n",
       "      <td>0.870526</td>\n",
       "      <td>action adventure sci-fi nm0004306 nm0362766 nm...</td>\n",
       "    </tr>\n",
       "    <tr>\n",
       "      <th>14437</th>\n",
       "      <td>tt4154756</td>\n",
       "      <td>Avengers: Infinity War</td>\n",
       "      <td>0.902761</td>\n",
       "      <td>action adventure sci-fi nm0751577 nm0751648 nm...</td>\n",
       "    </tr>\n",
       "    <tr>\n",
       "      <th>3845</th>\n",
       "      <td>tt0103064</td>\n",
       "      <td>Terminator 2: Judgment Day</td>\n",
       "      <td>0.924163</td>\n",
       "      <td>action adventure sci-fi nm0000116 nm0000216 nm...</td>\n",
       "    </tr>\n",
       "    <tr>\n",
       "      <th>8233</th>\n",
       "      <td>tt0482571</td>\n",
       "      <td>The Prestige</td>\n",
       "      <td>0.913645</td>\n",
       "      <td>drama mystery sci-fi nm0634240 nm0000288 nm041...</td>\n",
       "    </tr>\n",
       "    <tr>\n",
       "      <th>10566</th>\n",
       "      <td>tt1345836</td>\n",
       "      <td>The Dark Knight Rises</td>\n",
       "      <td>0.903098</td>\n",
       "      <td>action drama thriller nm0634240 nm0000288 nm03...</td>\n",
       "    </tr>\n",
       "    <tr>\n",
       "      <th>2916</th>\n",
       "      <td>tt0090605</td>\n",
       "      <td>Aliens</td>\n",
       "      <td>0.902194</td>\n",
       "      <td>action adventure sci-fi nm0000116 nm0000244 nm...</td>\n",
       "    </tr>\n",
       "    <tr>\n",
       "      <th>6679</th>\n",
       "      <td>tt0316654</td>\n",
       "      <td>Spider-Man 2</td>\n",
       "      <td>0.805923</td>\n",
       "      <td>action adventure sci-fi nm0000600 nm0001497 nm...</td>\n",
       "    </tr>\n",
       "    <tr>\n",
       "      <th>12178</th>\n",
       "      <td>tt1877832</td>\n",
       "      <td>X-Men: Days of Future Past</td>\n",
       "      <td>0.848720</td>\n",
       "      <td>action adventure sci-fi nm0001741 nm0001772 nm...</td>\n",
       "    </tr>\n",
       "    <tr>\n",
       "      <th>5442</th>\n",
       "      <td>tt0145487</td>\n",
       "      <td>Spider-Man</td>\n",
       "      <td>0.795417</td>\n",
       "      <td>action adventure sci-fi nm0000600 nm0001497 nm...</td>\n",
       "    </tr>\n",
       "    <tr>\n",
       "      <th>12861</th>\n",
       "      <td>tt2250912</td>\n",
       "      <td>Spider-Man: Homecoming</td>\n",
       "      <td>0.795253</td>\n",
       "      <td>action adventure sci-fi nm1218281 nm4043618 nm...</td>\n",
       "    </tr>\n",
       "  </tbody>\n",
       "</table>\n",
       "</div>"
      ]
     },
     "execution_count": 44,
     "metadata": {},
     "output_type": "execute_result"
    }
   ],
   "execution_count": 44
  },
  {
   "metadata": {
    "ExecuteTime": {
     "end_time": "2024-05-16T11:32:39.218465Z",
     "start_time": "2024-05-16T11:32:39.158891Z"
    }
   },
   "cell_type": "code",
   "source": [
    "df_liked_movies = df_full[df_full['tconst'].isin(liked_movies[\"imdb_id\"])]\n",
    "user_movie_idx = df_liked_movies.index\n",
    "\n",
    "# retrieve soup from actors/directors/writes ids + genres\n",
    "movies_soup = df_liked_movies['soup']\n",
    "# transform soup to sparse matrix of vectorized values\n",
    "count_user_matrix = vectorizer.transform(movies_soup)\n",
    "# sum up vectors and normalize it\n",
    "count_user_vec = count_user_matrix.sum(axis=0) / count_user_matrix.sum(axis=0).max()\n",
    "\n",
    "# calculate similarity\n",
    "similarity = cosine_similarity(sparse.csr_matrix(count_user_vec), vectorized_dataset)[0]\n",
    "# add info about average rating from all users, to let top movies be higher\n",
    "scores = similarity * df_full['weightedAverageScales']\n",
    "\n",
    "# sort similarities\n",
    "similar_scores = list(enumerate(scores))\n",
    "similar_scores = sorted(similar_scores, key=lambda x: x[1], reverse=True)\n",
    "\n",
    "# retrieve top 10 idx movies to recommend\n",
    "recommend_movie_indices = [idx for idx, score in similar_scores if idx not in user_movie_idx][:10]\n",
    "# return df_full.loc[recommend_movie_indices]"
   ],
   "id": "8a319e8fa40fff04",
   "outputs": [
    {
     "name": "stderr",
     "output_type": "stream",
     "text": [
      "/tmp/ipykernel_16261/3413097452.py:9: RuntimeWarning: invalid value encountered in divide\n",
      "  count_user_vec = count_user_matrix.sum(axis=0) / count_user_matrix.sum(axis=0).max()\n"
     ]
    },
    {
     "ename": "ValueError",
     "evalue": "Input contains NaN.",
     "output_type": "error",
     "traceback": [
      "\u001B[0;31m---------------------------------------------------------------------------\u001B[0m",
      "\u001B[0;31mValueError\u001B[0m                                Traceback (most recent call last)",
      "Cell \u001B[0;32mIn[8], line 12\u001B[0m\n\u001B[1;32m      9\u001B[0m count_user_vec \u001B[38;5;241m=\u001B[39m count_user_matrix\u001B[38;5;241m.\u001B[39msum(axis\u001B[38;5;241m=\u001B[39m\u001B[38;5;241m0\u001B[39m) \u001B[38;5;241m/\u001B[39m count_user_matrix\u001B[38;5;241m.\u001B[39msum(axis\u001B[38;5;241m=\u001B[39m\u001B[38;5;241m0\u001B[39m)\u001B[38;5;241m.\u001B[39mmax()\n\u001B[1;32m     11\u001B[0m \u001B[38;5;66;03m# calculate similarity\u001B[39;00m\n\u001B[0;32m---> 12\u001B[0m similarity \u001B[38;5;241m=\u001B[39m cosine_similarity(sparse\u001B[38;5;241m.\u001B[39mcsr_matrix(count_user_vec), vectorized_dataset)[\u001B[38;5;241m0\u001B[39m]\n\u001B[1;32m     13\u001B[0m \u001B[38;5;66;03m# add info about average rating from all users, to let top movies be higher\u001B[39;00m\n\u001B[1;32m     14\u001B[0m scores \u001B[38;5;241m=\u001B[39m similarity \u001B[38;5;241m*\u001B[39m df_full[\u001B[38;5;124m'\u001B[39m\u001B[38;5;124mweightedAverageScales\u001B[39m\u001B[38;5;124m'\u001B[39m]\n",
      "File \u001B[0;32m~/anaconda3/lib/python3.11/site-packages/sklearn/metrics/pairwise.py:1393\u001B[0m, in \u001B[0;36mcosine_similarity\u001B[0;34m(X, Y, dense_output)\u001B[0m\n\u001B[1;32m   1358\u001B[0m \u001B[38;5;250m\u001B[39m\u001B[38;5;124;03m\"\"\"Compute cosine similarity between samples in X and Y.\u001B[39;00m\n\u001B[1;32m   1359\u001B[0m \n\u001B[1;32m   1360\u001B[0m \u001B[38;5;124;03mCosine similarity, or the cosine kernel, computes similarity as the\u001B[39;00m\n\u001B[0;32m   (...)\u001B[0m\n\u001B[1;32m   1389\u001B[0m \u001B[38;5;124;03m    Returns the cosine similarity between samples in X and Y.\u001B[39;00m\n\u001B[1;32m   1390\u001B[0m \u001B[38;5;124;03m\"\"\"\u001B[39;00m\n\u001B[1;32m   1391\u001B[0m \u001B[38;5;66;03m# to avoid recursive import\u001B[39;00m\n\u001B[0;32m-> 1393\u001B[0m X, Y \u001B[38;5;241m=\u001B[39m check_pairwise_arrays(X, Y)\n\u001B[1;32m   1395\u001B[0m X_normalized \u001B[38;5;241m=\u001B[39m normalize(X, copy\u001B[38;5;241m=\u001B[39m\u001B[38;5;28;01mTrue\u001B[39;00m)\n\u001B[1;32m   1396\u001B[0m \u001B[38;5;28;01mif\u001B[39;00m X \u001B[38;5;129;01mis\u001B[39;00m Y:\n",
      "File \u001B[0;32m~/anaconda3/lib/python3.11/site-packages/sklearn/metrics/pairwise.py:155\u001B[0m, in \u001B[0;36mcheck_pairwise_arrays\u001B[0;34m(X, Y, precomputed, dtype, accept_sparse, force_all_finite, copy)\u001B[0m\n\u001B[1;32m    146\u001B[0m     X \u001B[38;5;241m=\u001B[39m Y \u001B[38;5;241m=\u001B[39m check_array(\n\u001B[1;32m    147\u001B[0m         X,\n\u001B[1;32m    148\u001B[0m         accept_sparse\u001B[38;5;241m=\u001B[39maccept_sparse,\n\u001B[0;32m   (...)\u001B[0m\n\u001B[1;32m    152\u001B[0m         estimator\u001B[38;5;241m=\u001B[39mestimator,\n\u001B[1;32m    153\u001B[0m     )\n\u001B[1;32m    154\u001B[0m \u001B[38;5;28;01melse\u001B[39;00m:\n\u001B[0;32m--> 155\u001B[0m     X \u001B[38;5;241m=\u001B[39m check_array(\n\u001B[1;32m    156\u001B[0m         X,\n\u001B[1;32m    157\u001B[0m         accept_sparse\u001B[38;5;241m=\u001B[39maccept_sparse,\n\u001B[1;32m    158\u001B[0m         dtype\u001B[38;5;241m=\u001B[39mdtype,\n\u001B[1;32m    159\u001B[0m         copy\u001B[38;5;241m=\u001B[39mcopy,\n\u001B[1;32m    160\u001B[0m         force_all_finite\u001B[38;5;241m=\u001B[39mforce_all_finite,\n\u001B[1;32m    161\u001B[0m         estimator\u001B[38;5;241m=\u001B[39mestimator,\n\u001B[1;32m    162\u001B[0m     )\n\u001B[1;32m    163\u001B[0m     Y \u001B[38;5;241m=\u001B[39m check_array(\n\u001B[1;32m    164\u001B[0m         Y,\n\u001B[1;32m    165\u001B[0m         accept_sparse\u001B[38;5;241m=\u001B[39maccept_sparse,\n\u001B[0;32m   (...)\u001B[0m\n\u001B[1;32m    169\u001B[0m         estimator\u001B[38;5;241m=\u001B[39mestimator,\n\u001B[1;32m    170\u001B[0m     )\n\u001B[1;32m    172\u001B[0m \u001B[38;5;28;01mif\u001B[39;00m precomputed:\n",
      "File \u001B[0;32m~/anaconda3/lib/python3.11/site-packages/sklearn/utils/validation.py:845\u001B[0m, in \u001B[0;36mcheck_array\u001B[0;34m(array, accept_sparse, accept_large_sparse, dtype, order, copy, force_all_finite, ensure_2d, allow_nd, ensure_min_samples, ensure_min_features, estimator, input_name)\u001B[0m\n\u001B[1;32m    843\u001B[0m \u001B[38;5;28;01mif\u001B[39;00m sp\u001B[38;5;241m.\u001B[39missparse(array):\n\u001B[1;32m    844\u001B[0m     _ensure_no_complex_data(array)\n\u001B[0;32m--> 845\u001B[0m     array \u001B[38;5;241m=\u001B[39m _ensure_sparse_format(\n\u001B[1;32m    846\u001B[0m         array,\n\u001B[1;32m    847\u001B[0m         accept_sparse\u001B[38;5;241m=\u001B[39maccept_sparse,\n\u001B[1;32m    848\u001B[0m         dtype\u001B[38;5;241m=\u001B[39mdtype,\n\u001B[1;32m    849\u001B[0m         copy\u001B[38;5;241m=\u001B[39mcopy,\n\u001B[1;32m    850\u001B[0m         force_all_finite\u001B[38;5;241m=\u001B[39mforce_all_finite,\n\u001B[1;32m    851\u001B[0m         accept_large_sparse\u001B[38;5;241m=\u001B[39maccept_large_sparse,\n\u001B[1;32m    852\u001B[0m         estimator_name\u001B[38;5;241m=\u001B[39mestimator_name,\n\u001B[1;32m    853\u001B[0m         input_name\u001B[38;5;241m=\u001B[39minput_name,\n\u001B[1;32m    854\u001B[0m     )\n\u001B[1;32m    855\u001B[0m \u001B[38;5;28;01melse\u001B[39;00m:\n\u001B[1;32m    856\u001B[0m     \u001B[38;5;66;03m# If np.array(..) gives ComplexWarning, then we convert the warning\u001B[39;00m\n\u001B[1;32m    857\u001B[0m     \u001B[38;5;66;03m# to an error. This is needed because specifying a non complex\u001B[39;00m\n\u001B[1;32m    858\u001B[0m     \u001B[38;5;66;03m# dtype to the function converts complex to real dtype,\u001B[39;00m\n\u001B[1;32m    859\u001B[0m     \u001B[38;5;66;03m# thereby passing the test made in the lines following the scope\u001B[39;00m\n\u001B[1;32m    860\u001B[0m     \u001B[38;5;66;03m# of warnings context manager.\u001B[39;00m\n\u001B[1;32m    861\u001B[0m     \u001B[38;5;28;01mwith\u001B[39;00m warnings\u001B[38;5;241m.\u001B[39mcatch_warnings():\n",
      "File \u001B[0;32m~/anaconda3/lib/python3.11/site-packages/sklearn/utils/validation.py:561\u001B[0m, in \u001B[0;36m_ensure_sparse_format\u001B[0;34m(spmatrix, accept_sparse, dtype, copy, force_all_finite, accept_large_sparse, estimator_name, input_name)\u001B[0m\n\u001B[1;32m    556\u001B[0m         warnings\u001B[38;5;241m.\u001B[39mwarn(\n\u001B[1;32m    557\u001B[0m             \u001B[38;5;124m\"\u001B[39m\u001B[38;5;124mCan\u001B[39m\u001B[38;5;124m'\u001B[39m\u001B[38;5;124mt check \u001B[39m\u001B[38;5;132;01m%s\u001B[39;00m\u001B[38;5;124m sparse matrix for nan or inf.\u001B[39m\u001B[38;5;124m\"\u001B[39m \u001B[38;5;241m%\u001B[39m spmatrix\u001B[38;5;241m.\u001B[39mformat,\n\u001B[1;32m    558\u001B[0m             stacklevel\u001B[38;5;241m=\u001B[39m\u001B[38;5;241m2\u001B[39m,\n\u001B[1;32m    559\u001B[0m         )\n\u001B[1;32m    560\u001B[0m     \u001B[38;5;28;01melse\u001B[39;00m:\n\u001B[0;32m--> 561\u001B[0m         _assert_all_finite(\n\u001B[1;32m    562\u001B[0m             spmatrix\u001B[38;5;241m.\u001B[39mdata,\n\u001B[1;32m    563\u001B[0m             allow_nan\u001B[38;5;241m=\u001B[39mforce_all_finite \u001B[38;5;241m==\u001B[39m \u001B[38;5;124m\"\u001B[39m\u001B[38;5;124mallow-nan\u001B[39m\u001B[38;5;124m\"\u001B[39m,\n\u001B[1;32m    564\u001B[0m             estimator_name\u001B[38;5;241m=\u001B[39mestimator_name,\n\u001B[1;32m    565\u001B[0m             input_name\u001B[38;5;241m=\u001B[39minput_name,\n\u001B[1;32m    566\u001B[0m         )\n\u001B[1;32m    568\u001B[0m \u001B[38;5;28;01mreturn\u001B[39;00m spmatrix\n",
      "File \u001B[0;32m~/anaconda3/lib/python3.11/site-packages/sklearn/utils/validation.py:161\u001B[0m, in \u001B[0;36m_assert_all_finite\u001B[0;34m(X, allow_nan, msg_dtype, estimator_name, input_name)\u001B[0m\n\u001B[1;32m    144\u001B[0m \u001B[38;5;28;01mif\u001B[39;00m estimator_name \u001B[38;5;129;01mand\u001B[39;00m input_name \u001B[38;5;241m==\u001B[39m \u001B[38;5;124m\"\u001B[39m\u001B[38;5;124mX\u001B[39m\u001B[38;5;124m\"\u001B[39m \u001B[38;5;129;01mand\u001B[39;00m has_nan_error:\n\u001B[1;32m    145\u001B[0m     \u001B[38;5;66;03m# Improve the error message on how to handle missing values in\u001B[39;00m\n\u001B[1;32m    146\u001B[0m     \u001B[38;5;66;03m# scikit-learn.\u001B[39;00m\n\u001B[1;32m    147\u001B[0m     msg_err \u001B[38;5;241m+\u001B[39m\u001B[38;5;241m=\u001B[39m (\n\u001B[1;32m    148\u001B[0m         \u001B[38;5;124mf\u001B[39m\u001B[38;5;124m\"\u001B[39m\u001B[38;5;130;01m\\n\u001B[39;00m\u001B[38;5;132;01m{\u001B[39;00mestimator_name\u001B[38;5;132;01m}\u001B[39;00m\u001B[38;5;124m does not accept missing values\u001B[39m\u001B[38;5;124m\"\u001B[39m\n\u001B[1;32m    149\u001B[0m         \u001B[38;5;124m\"\u001B[39m\u001B[38;5;124m encoded as NaN natively. For supervised learning, you might want\u001B[39m\u001B[38;5;124m\"\u001B[39m\n\u001B[0;32m   (...)\u001B[0m\n\u001B[1;32m    159\u001B[0m         \u001B[38;5;124m\"\u001B[39m\u001B[38;5;124m#estimators-that-handle-nan-values\u001B[39m\u001B[38;5;124m\"\u001B[39m\n\u001B[1;32m    160\u001B[0m     )\n\u001B[0;32m--> 161\u001B[0m \u001B[38;5;28;01mraise\u001B[39;00m \u001B[38;5;167;01mValueError\u001B[39;00m(msg_err)\n",
      "\u001B[0;31mValueError\u001B[0m: Input contains NaN."
     ]
    }
   ],
   "execution_count": 8
  },
  {
   "metadata": {
    "ExecuteTime": {
     "end_time": "2024-05-16T11:36:59.663973Z",
     "start_time": "2024-05-16T11:36:59.654100Z"
    }
   },
   "cell_type": "code",
   "source": "df_full",
   "id": "6d840e96d471a0bf",
   "outputs": [
    {
     "data": {
      "text/plain": [
       "          tconst                                     originalTitle  \\\n",
       "0      tt0004972                             The Birth of a Nation   \n",
       "1      tt0006206                                      Les vampires   \n",
       "2      tt0006864  Intolerance: Love's Struggle Throughout the Ages   \n",
       "3      tt0009968    Broken Blossoms or The Yellow Man and the Girl   \n",
       "4      tt0010323                      Das Cabinet des Dr. Caligari   \n",
       "...          ...                                               ...   \n",
       "16751  tt9894470                                               VFW   \n",
       "16752  tt9898858                                   Coffee & Kareem   \n",
       "16753  tt9900782                                            Kaithi   \n",
       "16754  tt9907782                                  Eight for Silver   \n",
       "16755  tt9916362                                          Akelarre   \n",
       "\n",
       "       weightedAverage                                               soup  \n",
       "0             6.112228  drama history war nm0000428 nm0001273 nm055061...  \n",
       "1             6.761700  action adventure crime nm0275421 nm0615736 nm0...  \n",
       "2             7.349504  drama history nm0000428 nm0001273 nm0366008 nm...  \n",
       "3             6.881505  drama romance nm0000428 nm0001273 nm0001932 nm...  \n",
       "4             7.878620  horror mystery thriller nm0927468 nm0470328 nm...  \n",
       "...                ...                                                ...  \n",
       "16751         6.126264  action crime horror nm3976308 nm0002332 nm0006...  \n",
       "16752         5.449330  action comedy crime nm0236226 nm1159180 nm0378...  \n",
       "16753         8.165990  action crime drama nm7992231 nm1912683 nm12308...  \n",
       "16754         6.194643  fantasy horror mystery nm1193346 nm2933542 nm0...  \n",
       "16755         6.296494  drama history nm1893148 nm3766704 nm0107165 nm...  \n",
       "\n",
       "[16756 rows x 4 columns]"
      ],
      "text/html": [
       "<div>\n",
       "<style scoped>\n",
       "    .dataframe tbody tr th:only-of-type {\n",
       "        vertical-align: middle;\n",
       "    }\n",
       "\n",
       "    .dataframe tbody tr th {\n",
       "        vertical-align: top;\n",
       "    }\n",
       "\n",
       "    .dataframe thead th {\n",
       "        text-align: right;\n",
       "    }\n",
       "</style>\n",
       "<table border=\"1\" class=\"dataframe\">\n",
       "  <thead>\n",
       "    <tr style=\"text-align: right;\">\n",
       "      <th></th>\n",
       "      <th>tconst</th>\n",
       "      <th>originalTitle</th>\n",
       "      <th>weightedAverage</th>\n",
       "      <th>soup</th>\n",
       "    </tr>\n",
       "  </thead>\n",
       "  <tbody>\n",
       "    <tr>\n",
       "      <th>0</th>\n",
       "      <td>tt0004972</td>\n",
       "      <td>The Birth of a Nation</td>\n",
       "      <td>6.112228</td>\n",
       "      <td>drama history war nm0000428 nm0001273 nm055061...</td>\n",
       "    </tr>\n",
       "    <tr>\n",
       "      <th>1</th>\n",
       "      <td>tt0006206</td>\n",
       "      <td>Les vampires</td>\n",
       "      <td>6.761700</td>\n",
       "      <td>action adventure crime nm0275421 nm0615736 nm0...</td>\n",
       "    </tr>\n",
       "    <tr>\n",
       "      <th>2</th>\n",
       "      <td>tt0006864</td>\n",
       "      <td>Intolerance: Love's Struggle Throughout the Ages</td>\n",
       "      <td>7.349504</td>\n",
       "      <td>drama history nm0000428 nm0001273 nm0366008 nm...</td>\n",
       "    </tr>\n",
       "    <tr>\n",
       "      <th>3</th>\n",
       "      <td>tt0009968</td>\n",
       "      <td>Broken Blossoms or The Yellow Man and the Girl</td>\n",
       "      <td>6.881505</td>\n",
       "      <td>drama romance nm0000428 nm0001273 nm0001932 nm...</td>\n",
       "    </tr>\n",
       "    <tr>\n",
       "      <th>4</th>\n",
       "      <td>tt0010323</td>\n",
       "      <td>Das Cabinet des Dr. Caligari</td>\n",
       "      <td>7.878620</td>\n",
       "      <td>horror mystery thriller nm0927468 nm0470328 nm...</td>\n",
       "    </tr>\n",
       "    <tr>\n",
       "      <th>...</th>\n",
       "      <td>...</td>\n",
       "      <td>...</td>\n",
       "      <td>...</td>\n",
       "      <td>...</td>\n",
       "    </tr>\n",
       "    <tr>\n",
       "      <th>16751</th>\n",
       "      <td>tt9894470</td>\n",
       "      <td>VFW</td>\n",
       "      <td>6.126264</td>\n",
       "      <td>action crime horror nm3976308 nm0002332 nm0006...</td>\n",
       "    </tr>\n",
       "    <tr>\n",
       "      <th>16752</th>\n",
       "      <td>tt9898858</td>\n",
       "      <td>Coffee &amp; Kareem</td>\n",
       "      <td>5.449330</td>\n",
       "      <td>action comedy crime nm0236226 nm1159180 nm0378...</td>\n",
       "    </tr>\n",
       "    <tr>\n",
       "      <th>16753</th>\n",
       "      <td>tt9900782</td>\n",
       "      <td>Kaithi</td>\n",
       "      <td>8.165990</td>\n",
       "      <td>action crime drama nm7992231 nm1912683 nm12308...</td>\n",
       "    </tr>\n",
       "    <tr>\n",
       "      <th>16754</th>\n",
       "      <td>tt9907782</td>\n",
       "      <td>Eight for Silver</td>\n",
       "      <td>6.194643</td>\n",
       "      <td>fantasy horror mystery nm1193346 nm2933542 nm0...</td>\n",
       "    </tr>\n",
       "    <tr>\n",
       "      <th>16755</th>\n",
       "      <td>tt9916362</td>\n",
       "      <td>Akelarre</td>\n",
       "      <td>6.296494</td>\n",
       "      <td>drama history nm1893148 nm3766704 nm0107165 nm...</td>\n",
       "    </tr>\n",
       "  </tbody>\n",
       "</table>\n",
       "<p>16756 rows × 4 columns</p>\n",
       "</div>"
      ]
     },
     "execution_count": 34,
     "metadata": {},
     "output_type": "execute_result"
    }
   ],
   "execution_count": 34
  },
  {
   "metadata": {},
   "cell_type": "code",
   "outputs": [],
   "execution_count": null,
   "source": "",
   "id": "2b6a117c82661993"
  }
 ],
 "metadata": {
  "kernelspec": {
   "display_name": "Python 3",
   "language": "python",
   "name": "python3"
  },
  "language_info": {
   "codemirror_mode": {
    "name": "ipython",
    "version": 2
   },
   "file_extension": ".py",
   "mimetype": "text/x-python",
   "name": "python",
   "nbconvert_exporter": "python",
   "pygments_lexer": "ipython2",
   "version": "2.7.6"
  }
 },
 "nbformat": 4,
 "nbformat_minor": 5
}
